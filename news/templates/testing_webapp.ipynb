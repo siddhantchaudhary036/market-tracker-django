{
 "cells": [
  {
   "cell_type": "code",
   "execution_count": 26,
   "metadata": {},
   "outputs": [
    {
     "name": "stderr",
     "output_type": "stream",
     "text": [
      "[*********************100%%**********************]  1 of 1 completed"
     ]
    },
    {
     "name": "stdout",
     "output_type": "stream",
     "text": [
      "Mean PnL: 1.5210009888108167\n",
      "len 5\n",
      "median 2.482239225541943\n",
      "winrate 0.6\n"
     ]
    },
    {
     "name": "stderr",
     "output_type": "stream",
     "text": [
      "\n"
     ]
    }
   ],
   "source": [
    "\n",
    "\n",
    "import yfinance as yf\n",
    "import pandas as pd\n",
    "import numpy as np\n",
    "\n",
    "# Download Nifty data\n",
    "nifty = yf.download('^NSEI', start='2010-01-01', end='2024-12-31')\n",
    "\n",
    "# Calculate the condition\n",
    "condition = ((nifty['Open'] - nifty['Close'].shift(1)) / nifty['Close'].shift(1)) < -0.04\n",
    "\n",
    "\n",
    "# Calculate PnL where the condition is met\n",
    "buy_prices = nifty['Open'][condition]\n",
    "sell_prices = nifty['Close'][condition]\n",
    "pnls = ((sell_prices - buy_prices) / buy_prices) * 100\n",
    "\n",
    "# Print the mean PnL\n",
    "print('Mean PnL:', np.mean(pnls))\n",
    "print('len', len(pnls))\n",
    "print('median', np.median(pnls))\n",
    "print('winrate', len(pnls[pnls > 0]) / len(pnls))"
   ]
  }
 ],
 "metadata": {
  "kernelspec": {
   "display_name": "Python 3",
   "language": "python",
   "name": "python3"
  },
  "language_info": {
   "codemirror_mode": {
    "name": "ipython",
    "version": 3
   },
   "file_extension": ".py",
   "mimetype": "text/x-python",
   "name": "python",
   "nbconvert_exporter": "python",
   "pygments_lexer": "ipython3",
   "version": "3.12.3"
  }
 },
 "nbformat": 4,
 "nbformat_minor": 2
}
